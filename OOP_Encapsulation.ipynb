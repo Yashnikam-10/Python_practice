{
  "nbformat": 4,
  "nbformat_minor": 0,
  "metadata": {
    "colab": {
      "name": "OOP-Encapsulation.ipynb",
      "provenance": [],
      "collapsed_sections": [],
      "include_colab_link": true
    },
    "kernelspec": {
      "name": "python3",
      "display_name": "Python 3"
    },
    "language_info": {
      "name": "python"
    }
  },
  "cells": [
    {
      "cell_type": "markdown",
      "metadata": {
        "id": "view-in-github",
        "colab_type": "text"
      },
      "source": [
        "<a href=\"https://colab.research.google.com/github/Yashnikam-10/Python_practice/blob/main/OOP_Encapsulation.ipynb\" target=\"_parent\"><img src=\"https://colab.research.google.com/assets/colab-badge.svg\" alt=\"Open In Colab\"/></a>"
      ]
    },
    {
      "cell_type": "code",
      "metadata": {
        "id": "YCKNbRJXR-zF",
        "colab": {
          "base_uri": "https://localhost:8080/"
        },
        "outputId": "aad0dce4-bb85-4cb9-dd6d-5a12b2812147"
      },
      "source": [
        "class car:\n",
        "  def __init__(self,model,colour,manufacturingYear):\n",
        "    self.model = model\n",
        "    self.colour = colour\n",
        "    self.__manufacturingYear = manufacturingYear\n",
        "\n",
        "  def call_year(self):\n",
        "    return self.__manufacturingYear\n",
        "\n",
        "  def display_details(self):\n",
        "    print(f'Model: {self.model}\\nColour: {self.colour}\\nManufacturing Year: {self.call_year()}')\n",
        "\n",
        "car1 = car(\"Tesla\",\"Black\",2019)\n",
        "print(car1.model, car1.colour, car1.call_year(), sep='\\n')\n",
        "car1.display_details()"
      ],
      "execution_count": 13,
      "outputs": [
        {
          "output_type": "stream",
          "name": "stdout",
          "text": [
            "Tesla\n",
            "Black\n",
            "2019\n",
            "Model: Tesla\n",
            "Colour: Black\n",
            "Manufacturing Year: 2019\n"
          ]
        }
      ]
    },
    {
      "cell_type": "code",
      "metadata": {
        "colab": {
          "base_uri": "https://localhost:8080/"
        },
        "id": "XioQKQ20ceEN",
        "outputId": "7ca57e21-fc96-4f5d-9457-6b4ce97e6097"
      },
      "source": [
        "class travel:\n",
        "  def __init__(self, destination='Ooty', travel_method='train', duration=7):\n",
        "    self.destination = destination\n",
        "    self.travel_method = travel_method\n",
        "    self.duration = duration\n",
        "\n",
        "  def display_details(self):\n",
        "    print(f'''Your destination is {self.destination}.\n",
        "You will travel to your destination by {self.travel_method} and will be staying there for {self.duration} days.''')\n",
        "\n",
        "tourist1 = travel()\n",
        "tourist1.display_details()\n",
        "\n",
        "print()\n",
        "\n",
        "tourist2 = travel(destination='Shimla', travel_method='Plane', duration='15')\n",
        "tourist2.display_details()"
      ],
      "execution_count": 12,
      "outputs": [
        {
          "output_type": "stream",
          "name": "stdout",
          "text": [
            "Your destination is Ooty.\n",
            "You will travel to your destination by train and will be staying there for 7 days.\n",
            "\n",
            "Your destination is Shimla.\n",
            "You will travel to your destination by Plane and will be staying there for 15 days.\n"
          ]
        }
      ]
    }
  ]
}