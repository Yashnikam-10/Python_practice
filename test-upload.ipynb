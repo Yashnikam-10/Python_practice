{
  "nbformat": 4,
  "nbformat_minor": 0,
  "metadata": {
    "colab": {
      "name": "Untitled0.ipynb",
      "provenance": [],
      "mount_file_id": "1c9LOG8EFQG2hw2OtLM3GOoC1I1ts9Vxu",
      "authorship_tag": "ABX9TyOsRmxGySMJV6BTiyVFzO9V",
      "include_colab_link": true
    },
    "kernelspec": {
      "name": "python3",
      "display_name": "Python 3"
    },
    "language_info": {
      "name": "python"
    }
  },
  "cells": [
    {
      "cell_type": "markdown",
      "metadata": {
        "id": "view-in-github",
        "colab_type": "text"
      },
      "source": [
        "<a href=\"https://colab.research.google.com/github/Yashnikam-10/Python_practice/blob/main/test-upload.ipynb\" target=\"_parent\"><img src=\"https://colab.research.google.com/assets/colab-badge.svg\" alt=\"Open In Colab\"/></a>"
      ]
    },
    {
      "cell_type": "code",
      "metadata": {
        "colab": {
          "base_uri": "https://localhost:8080/"
        },
        "id": "34qBh6y5dHET",
        "outputId": "40018a92-61c9-4336-dc6b-563fc2dca3ef"
      },
      "source": [
        "class Car():\n",
        "  def __init__(self,name,colour):\n",
        "    self.name = name\n",
        "    self.colour = colour\n",
        "\n",
        "  def print_details(self):\n",
        "    print(f\"The name of car is {self.name} and it's colour is {self.colour}\")\n",
        "\n",
        "\n",
        "car = Car(\"Audi\", \"red\")\n",
        "print(\"Hello\")\n",
        "car.print_details()\n"
      ],
      "execution_count": null,
      "outputs": [
        {
          "output_type": "stream",
          "text": [
            "Hello\n",
            "The name of car is Audi and it's colour is red\n"
          ],
          "name": "stdout"
        }
      ]
    }
  ]
}